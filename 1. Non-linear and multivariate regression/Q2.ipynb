{
 "cells": [
  {
   "cell_type": "code",
   "execution_count": 3,
   "id": "f279545e",
   "metadata": {},
   "outputs": [
    {
     "name": "stdout",
     "output_type": "stream",
     "text": [
      "<class 'pandas.core.frame.DataFrame'>\n",
      "RangeIndex: 21613 entries, 0 to 21612\n",
      "Data columns (total 7 columns):\n",
      " #   Column       Non-Null Count  Dtype  \n",
      "---  ------       --------------  -----  \n",
      " 0   id           21613 non-null  int64  \n",
      " 1   price        21613 non-null  float64\n",
      " 2   bedrooms     21613 non-null  int64  \n",
      " 3   bathrooms    21613 non-null  float64\n",
      " 4   sqft_living  21613 non-null  int64  \n",
      " 5   floors       21613 non-null  float64\n",
      " 6   yr_built     21613 non-null  int64  \n",
      "dtypes: float64(3), int64(4)\n",
      "memory usage: 1.2 MB\n",
      "None\n",
      "      price  bedrooms  bathrooms  sqft_living  floors  yr_built\n",
      "0  221900.0         3       1.00         1180     1.0      1955\n",
      "1  538000.0         3       2.25         2570     2.0      1951\n",
      "2  180000.0         2       1.00          770     1.0      1933\n",
      "3  604000.0         4       3.00         1960     1.0      1965\n",
      "4  510000.0         3       2.00         1680     1.0      1987\n"
     ]
    }
   ],
   "source": [
    "import pandas as pd\n",
    "import numpy as np\n",
    "from matplotlib import pyplot as plt\n",
    "\n",
    "data = pd.read_csv('prob2data.csv')\n",
    "\n",
    "print(data.info())\n",
    "del data['id']\n",
    "print(data.head())"
   ]
  },
  {
   "cell_type": "code",
   "execution_count": 4,
   "id": "8f119365",
   "metadata": {},
   "outputs": [
    {
     "name": "stdout",
     "output_type": "stream",
     "text": [
      "      price  bedrooms  bathrooms  sqft_living    floors  yr_built\n",
      "0 -0.866399 -0.398728  -1.447430    -0.979812 -0.915406 -0.544885\n",
      "1 -0.005940 -0.398728   0.175603     0.533622  0.936484 -0.681063\n",
      "2 -0.980455 -1.473925  -1.447430    -1.426221 -0.915406 -1.293862\n",
      "3  0.173719  0.676469   1.149422    -0.130547 -0.915406 -0.204441\n",
      "4 -0.082159 -0.398728  -0.149004    -0.435412 -0.915406  0.544535\n"
     ]
    }
   ],
   "source": [
    "for i in data:\n",
    "    avg = data[i].mean()\n",
    "    sd = data[i].std()\n",
    "    data[i] = (data[i]-avg)/sd\n",
    "print(data.head())"
   ]
  },
  {
   "cell_type": "code",
   "execution_count": 5,
   "id": "65e7eee3",
   "metadata": {},
   "outputs": [],
   "source": [
    "\n",
    "import numpy as np\n",
    "import pandas as pd\n",
    "from matplotlib import pyplot as plt\n",
    "\n",
    "class mr:\n",
    "\n",
    "  # Evaluates the gradient of cost function (J). Hint: You can use this to optimize w\n",
    "    def grad(self,x,y,w):\n",
    "        J = 0 \n",
    "        x = np.transpose(x)\n",
    "        p = w@x-y\n",
    "        x= np.transpose(x)\n",
    "        return p@x/len(x)\n",
    "\n",
    "  # This function calculates the cost (J)\n",
    "    def computeCost(self,x,y,w):\n",
    "        J = 0 \n",
    "        x = np.transpose(x)\n",
    "        p = w@x-y\n",
    "        x= np.transpose(x)\n",
    "        z=p*p\n",
    "        return np.sum(z)/(2*len(x))\n",
    "\n",
    "    # This function optimizes the weights w_0, w_1, w_2. Batch Gradient Descent method\n",
    "    def bgdMulti(self, x, y, w, alpha, iters):\n",
    "        m =  len(x)  # number of training examples\n",
    "        w = w.copy() # To keep a copy of original weights\n",
    "        p = len(w)\n",
    "\n",
    "        J_history = []  \n",
    "        for i in range(iters):\n",
    "            temp = self.grad(x, y, w)\n",
    "            for j in range(p):\n",
    "                w[j]-= alpha*temp[j]\n",
    "            J_history.append(self.computeCost(x, y, w))\n",
    "          # Loop to update weights (w vector)\n",
    "          # Also save cost at every step\n",
    "\n",
    "        return w, J_history\n",
    "\n",
    "    # Estimate the price of a 4 bedrooms, 2.5 bathrooms, 2570 sq. feet area, 2 floors, 2005 yr. built\n",
    "    # You need to rescale all the values, mu is mean of all X data of each column, sigma is standard deviation of X data. mu , sigma will be vector\n",
    "    # You need to do feature normalization of all X (see lab notes)\n",
    "    def predict(self, mu, sigma):\n",
    "        w = [540182.1587933131, -62570.677654266765, 52861.58266348569, 275063.89468016766, 30185.74075457055, -99525.28071086]\n",
    "        z = [1.0, 4.0, 2.5, 2570.0, 2.0, 2005.0]\n",
    "        for n in range(1, 6):\n",
    "            z[n] = (z[n]-mu[n-1])/sigma[n-1]\n",
    "        price = 0 # predict the price of the house\n",
    "        for i in range(6):\n",
    "            price+= w[i]*z[i]\n",
    "        Actualprice = 719000\n",
    "        return (Actualprice-price)*100/Actualprice"
   ]
  },
  {
   "cell_type": "code",
   "execution_count": 6,
   "id": "3c842f63",
   "metadata": {},
   "outputs": [
    {
     "name": "stdout",
     "output_type": "stream",
     "text": [
      "18.754466959556986\n"
     ]
    }
   ],
   "source": [
    "n= mr()\n",
    "print(n.predict([ 3.370846830171217, 2.114738546968996, 2079.881212401666, 1.4942387783433595, 1971.0036094400741], [ 0.9301096999846462, 0.770203702285374, 918.5002986169898, 0.5399935009500416, 29.37263855866852]))"
   ]
  },
  {
   "cell_type": "code",
   "execution_count": 7,
   "id": "8996359d",
   "metadata": {
    "scrolled": true
   },
   "outputs": [
    {
     "name": "stdout",
     "output_type": "stream",
     "text": [
      "      price  bedrooms  bathrooms  sqft_living    floors  yr_built\n",
      "0  221900.0 -0.011238  -0.139345    -0.067917 -0.197724 -0.139175\n",
      "1  538000.0 -0.011238   0.016905     0.036989  0.202276 -0.173958\n",
      "2  180000.0 -0.041541  -0.139345    -0.098860 -0.197724 -0.330479\n",
      "3  604000.0  0.019065   0.110655    -0.009049 -0.197724 -0.052219\n",
      "4  510000.0 -0.011238  -0.014345    -0.030181 -0.197724  0.139086\n"
     ]
    }
   ],
   "source": [
    "data = pd.read_csv('prob2data.csv')\n",
    "del data['id']\n",
    "\n",
    "for i in data:\n",
    "    ma = data[i].max()\n",
    "    mi = data[i].min()\n",
    "    avg = data[i].mean()\n",
    "    if i!=\"price\":\n",
    "        data[i] = (data[i]-avg)/(ma-mi)\n",
    "print(data.head())"
   ]
  },
  {
   "cell_type": "code",
   "execution_count": 8,
   "id": "8214cea3",
   "metadata": {},
   "outputs": [],
   "source": [
    "x = []\n",
    "y = []\n",
    "for i in range(len(data['price'])) :\n",
    "    x.append([1, data['bedrooms'][i], data['bathrooms'][i], data['sqft_living'][i], data['floors'][i], data['yr_built'][i]])\n",
    "    y.append(data['price'][i])\n",
    "x = np.array(x)\n",
    "y = np.array(y)"
   ]
  },
  {
   "cell_type": "code",
   "execution_count": 9,
   "id": "048ffc71",
   "metadata": {},
   "outputs": [],
   "source": [
    "itr = 10000\n",
    "Cost1 = n.bgdMulti(x, y, [0.0]*6, 0.5, itr)\n",
    "Cost2 = n.bgdMulti(x, y, [0.0]*6, 0.1, itr)\n",
    "Cost3 = n.bgdMulti(x, y, [0.0]*6, 0.05, itr)\n",
    "Cost4 = n.bgdMulti(x, y, [0.0]*6, 0.01, itr)"
   ]
  },
  {
   "cell_type": "code",
   "execution_count": 10,
   "id": "26b43e0f",
   "metadata": {},
   "outputs": [
    {
     "data": {
      "text/plain": [
       "Text(0, 0.5, 'Cost')"
      ]
     },
     "execution_count": 10,
     "metadata": {},
     "output_type": "execute_result"
    },
    {
     "data": {
      "image/png": "[encoded data removed]",
      "text/plain": [
       "<Figure size 432x288 with 1 Axes>"
      ]
     },
     "metadata": {
      "needs_background": "light"
     },
     "output_type": "display_data"
    },
    {
     "data": {
      "image/png": "[encoded data removed]",
      "text/plain": [
       "<Figure size 432x288 with 1 Axes>"
      ]
     },
     "metadata": {
      "needs_background": "light"
     },
     "output_type": "display_data"
    },
    {
     "data": {
      "image/png": "[encoded data removed]",
      "text/plain": [
       "<Figure size 432x288 with 1 Axes>"
      ]
     },
     "metadata": {
      "needs_background": "light"
     },
     "output_type": "display_data"
    },
    {
     "data": {
      "image/png": "[encoded data removed]",
      "text/plain": [
       "<Figure size 432x288 with 1 Axes>"
      ]
     },
     "metadata": {
      "needs_background": "light"
     },
     "output_type": "display_data"
    }
   ],
   "source": [
    "p1 = plt.subplots()[1]\n",
    "p1.plot(range(itr), Cost1[1])\n",
    "p1.title.set_text('ALPHA = 0.5')\n",
    "p1.set_xlabel('Iterations')\n",
    "p1.set_ylabel('Cost')\n",
    "p2 = plt.subplots()[1]\n",
    "p2.plot(range(itr), Cost2[1])\n",
    "p2.title.set_text('ALPHA = 0.1')\n",
    "p2.set_xlabel('Iterations')\n",
    "p2.set_ylabel('Cost')\n",
    "p3 = plt.subplots()[1]\n",
    "p3.plot(range(itr), Cost3[1])\n",
    "p3.title.set_text('ALPHA = 0.05')\n",
    "p3.set_xlabel('Iterations')\n",
    "p3.set_ylabel('Cost')\n",
    "p4 = plt.subplots()[1]\n",
    "p4.plot(range(itr), Cost4[1])\n",
    "p4.title.set_text('ALPHA = 0.01')\n",
    "p4.set_xlabel('Iterations')\n",
    "p4.set_ylabel('Cost')"
   ]
  }
 ],
 "metadata": {
  "kernelspec": {
   "display_name": "Python 3 (ipykernel)",
   "language": "python",
   "name": "python3"
  },
  "language_info": {
   "codemirror_mode": {
    "name": "ipython",
    "version": 3
   },
   "file_extension": ".py",
   "mimetype": "text/x-python",
   "name": "python",
   "nbconvert_exporter": "python",
   "pygments_lexer": "ipython3",
   "version": "3.9.7"
  }
 },
 "nbformat": 4,
 "nbformat_minor": 5
}
